{
  "nbformat": 4,
  "nbformat_minor": 0,
  "metadata": {
    "colab": {
      "name": "learn-py-data-mining.ipynb",
      "version": "0.3.2",
      "provenance": []
    },
    "kernelspec": {
      "name": "python3",
      "display_name": "Python 3"
    }
  },
  "cells": [
    {
      "cell_type": "markdown",
      "metadata": {
        "id": "kYlroaCejH9O",
        "colab_type": "text"
      },
      "source": [
        "# Sample Workflow"
      ]
    },
    {
      "cell_type": "markdown",
      "metadata": {
        "id": "5zY7oBC7jcAw",
        "colab_type": "text"
      },
      "source": [
        "Let's think about what we need to do when approaching any machine learning competition/problem. Like we talked about during the slides, any problem involving some sort of prediction task creates the possibility for us to apply machine learning to it.\n",
        "\n",
        "1) Determine your problem space. Do you have a classification problem, or a regression problem?\n",
        "\n",
        "2) Determine what model you want to use (Always good to start off with simple models).\n",
        "\n",
        "3) Load in and preprocess your dataset. Examine your database to see if there are any NULL or non-numeric values.\n",
        "\n",
        "4) Split up your dataset into training and testing components.\n",
        "\n",
        "5) Create your model. Depending on the libraries you are using, this could entail defining your function, your placeholders, the loss function, and the optimizer.\n",
        "\n",
        "6) Train, evaluate, and iterate on your model!\n",
        "\n",
        "7) Once you have a model that you've trained and that you're satisfied with, you can deploy it to a server! [Flask](http://flask.pocoo.org/) is often a good choice for serving ML models."
      ]
    },
    {
      "cell_type": "markdown",
      "metadata": {
        "id": "M3RIbV5CjoWK",
        "colab_type": "text"
      },
      "source": [
        "# Titanic Dataset"
      ]
    },
    {
      "cell_type": "markdown",
      "metadata": {
        "id": "CQ_ED-Xajq5U",
        "colab_type": "text"
      },
      "source": [
        "In this Notebook, we'll examine the classic Titanic Prediction problem that is hosted on [Kaggle](https://www.kaggle.com/c/titanic). The goal is to be able to predict who survived and who passed away during the Titanic tragedy, given information about the people involved."
      ]
    },
    {
      "cell_type": "markdown",
      "metadata": {
        "id": "1MDQwPsDqFkZ",
        "colab_type": "text"
      },
      "source": [
        "## Input Data and Preprocessing"
      ]
    },
    {
      "cell_type": "markdown",
      "metadata": {
        "id": "AqKY5fX0j6Zd",
        "colab_type": "text"
      },
      "source": [
        "### Getting the Data"
      ]
    },
    {
      "cell_type": "markdown",
      "metadata": {
        "id": "SpMwuyp-j-a5",
        "colab_type": "text"
      },
      "source": [
        "You can download the data from the Kaggle website. The direct link is [here](https://www.kaggle.com/c/titanic/data)"
      ]
    },
    {
      "cell_type": "code",
      "metadata": {
        "id": "lkMugmiIkBvK",
        "colab_type": "code",
        "colab": {}
      },
      "source": [
        "import pandas as pd\n",
        "\n",
        "titanic_dataframe = pd.read_csv('https://raw.githubusercontent.com/uclaacm/learn.py-s19/master/session-5-data-mining/train.csv')"
      ],
      "execution_count": 0,
      "outputs": []
    },
    {
      "cell_type": "markdown",
      "metadata": {
        "id": "AWQCRcbCn2y9",
        "colab_type": "text"
      },
      "source": [
        "### Examining Data"
      ]
    },
    {
      "cell_type": "markdown",
      "metadata": {
        "id": "I0fdbyXCn6ll",
        "colab_type": "text"
      },
      "source": [
        "[pandas](https://pandas.pydata.org) has a wide variety of functions for visualizing and examining data. Let's try some of them here:"
      ]
    },
    {
      "cell_type": "code",
      "metadata": {
        "id": "l2nHYjJ-oCyD",
        "colab_type": "code",
        "colab": {
          "base_uri": "https://localhost:8080/",
          "height": 204
        },
        "outputId": "2d7d0727-0be2-404d-9adb-bfd9be06bdc3"
      },
      "source": [
        "# Get the first 5 training examples (data points)\n",
        "titanic_dataframe.head()"
      ],
      "execution_count": 2,
      "outputs": [
        {
          "output_type": "execute_result",
          "data": {
            "text/html": [
              "<div>\n",
              "<style scoped>\n",
              "    .dataframe tbody tr th:only-of-type {\n",
              "        vertical-align: middle;\n",
              "    }\n",
              "\n",
              "    .dataframe tbody tr th {\n",
              "        vertical-align: top;\n",
              "    }\n",
              "\n",
              "    .dataframe thead th {\n",
              "        text-align: right;\n",
              "    }\n",
              "</style>\n",
              "<table border=\"1\" class=\"dataframe\">\n",
              "  <thead>\n",
              "    <tr style=\"text-align: right;\">\n",
              "      <th></th>\n",
              "      <th>PassengerId</th>\n",
              "      <th>Survived</th>\n",
              "      <th>Pclass</th>\n",
              "      <th>Name</th>\n",
              "      <th>Sex</th>\n",
              "      <th>Age</th>\n",
              "      <th>SibSp</th>\n",
              "      <th>Parch</th>\n",
              "      <th>Ticket</th>\n",
              "      <th>Fare</th>\n",
              "      <th>Cabin</th>\n",
              "      <th>Embarked</th>\n",
              "    </tr>\n",
              "  </thead>\n",
              "  <tbody>\n",
              "    <tr>\n",
              "      <th>0</th>\n",
              "      <td>1</td>\n",
              "      <td>0</td>\n",
              "      <td>3</td>\n",
              "      <td>Braund, Mr. Owen Harris</td>\n",
              "      <td>male</td>\n",
              "      <td>22.0</td>\n",
              "      <td>1</td>\n",
              "      <td>0</td>\n",
              "      <td>A/5 21171</td>\n",
              "      <td>7.2500</td>\n",
              "      <td>NaN</td>\n",
              "      <td>S</td>\n",
              "    </tr>\n",
              "    <tr>\n",
              "      <th>1</th>\n",
              "      <td>2</td>\n",
              "      <td>1</td>\n",
              "      <td>1</td>\n",
              "      <td>Cumings, Mrs. John Bradley (Florence Briggs Th...</td>\n",
              "      <td>female</td>\n",
              "      <td>38.0</td>\n",
              "      <td>1</td>\n",
              "      <td>0</td>\n",
              "      <td>PC 17599</td>\n",
              "      <td>71.2833</td>\n",
              "      <td>C85</td>\n",
              "      <td>C</td>\n",
              "    </tr>\n",
              "    <tr>\n",
              "      <th>2</th>\n",
              "      <td>3</td>\n",
              "      <td>1</td>\n",
              "      <td>3</td>\n",
              "      <td>Heikkinen, Miss. Laina</td>\n",
              "      <td>female</td>\n",
              "      <td>26.0</td>\n",
              "      <td>0</td>\n",
              "      <td>0</td>\n",
              "      <td>STON/O2. 3101282</td>\n",
              "      <td>7.9250</td>\n",
              "      <td>NaN</td>\n",
              "      <td>S</td>\n",
              "    </tr>\n",
              "    <tr>\n",
              "      <th>3</th>\n",
              "      <td>4</td>\n",
              "      <td>1</td>\n",
              "      <td>1</td>\n",
              "      <td>Futrelle, Mrs. Jacques Heath (Lily May Peel)</td>\n",
              "      <td>female</td>\n",
              "      <td>35.0</td>\n",
              "      <td>1</td>\n",
              "      <td>0</td>\n",
              "      <td>113803</td>\n",
              "      <td>53.1000</td>\n",
              "      <td>C123</td>\n",
              "      <td>S</td>\n",
              "    </tr>\n",
              "    <tr>\n",
              "      <th>4</th>\n",
              "      <td>5</td>\n",
              "      <td>0</td>\n",
              "      <td>3</td>\n",
              "      <td>Allen, Mr. William Henry</td>\n",
              "      <td>male</td>\n",
              "      <td>35.0</td>\n",
              "      <td>0</td>\n",
              "      <td>0</td>\n",
              "      <td>373450</td>\n",
              "      <td>8.0500</td>\n",
              "      <td>NaN</td>\n",
              "      <td>S</td>\n",
              "    </tr>\n",
              "  </tbody>\n",
              "</table>\n",
              "</div>"
            ],
            "text/plain": [
              "   PassengerId  Survived  Pclass  \\\n",
              "0            1         0       3   \n",
              "1            2         1       1   \n",
              "2            3         1       3   \n",
              "3            4         1       1   \n",
              "4            5         0       3   \n",
              "\n",
              "                                                Name     Sex   Age  SibSp  \\\n",
              "0                            Braund, Mr. Owen Harris    male  22.0      1   \n",
              "1  Cumings, Mrs. John Bradley (Florence Briggs Th...  female  38.0      1   \n",
              "2                             Heikkinen, Miss. Laina  female  26.0      0   \n",
              "3       Futrelle, Mrs. Jacques Heath (Lily May Peel)  female  35.0      1   \n",
              "4                           Allen, Mr. William Henry    male  35.0      0   \n",
              "\n",
              "   Parch            Ticket     Fare Cabin Embarked  \n",
              "0      0         A/5 21171   7.2500   NaN        S  \n",
              "1      0          PC 17599  71.2833   C85        C  \n",
              "2      0  STON/O2. 3101282   7.9250   NaN        S  \n",
              "3      0            113803  53.1000  C123        S  \n",
              "4      0            373450   8.0500   NaN        S  "
            ]
          },
          "metadata": {
            "tags": []
          },
          "execution_count": 2
        }
      ]
    },
    {
      "cell_type": "code",
      "metadata": {
        "id": "f7kgNc2npACZ",
        "colab_type": "code",
        "colab": {
          "base_uri": "https://localhost:8080/",
          "height": 221
        },
        "outputId": "57ab5a12-a69e-4b5e-c6ac-874fc5071c09"
      },
      "source": [
        "# Print out all of the column names\n",
        "titanic_dataframe.columns.tolist()"
      ],
      "execution_count": 3,
      "outputs": [
        {
          "output_type": "execute_result",
          "data": {
            "text/plain": [
              "['PassengerId',\n",
              " 'Survived',\n",
              " 'Pclass',\n",
              " 'Name',\n",
              " 'Sex',\n",
              " 'Age',\n",
              " 'SibSp',\n",
              " 'Parch',\n",
              " 'Ticket',\n",
              " 'Fare',\n",
              " 'Cabin',\n",
              " 'Embarked']"
            ]
          },
          "metadata": {
            "tags": []
          },
          "execution_count": 3
        }
      ]
    },
    {
      "cell_type": "markdown",
      "metadata": {
        "id": "WRmSNZvOgzpj",
        "colab_type": "text"
      },
      "source": [
        "\"Pclass\" is the class of travel (1st, 2nd, or 3rd).\n",
        "\"SibSp\" is the number of siblings/spouses the passenger has aboard.\n",
        "\"Parch\" is the number of parents/children the passenger has aboard.\n",
        "\"Embarked\" is the port that the passenger embarked from:\n",
        "* C - Cherbourg\n",
        "* S - Southampton\n",
        "* Q - Queenstown\n",
        "\n"
      ]
    },
    {
      "cell_type": "code",
      "metadata": {
        "id": "fBCmXToHpMTs",
        "colab_type": "code",
        "colab": {
          "base_uri": "https://localhost:8080/",
          "height": 297
        },
        "outputId": "c8218885-66c7-4611-bfcf-868f677b5db0"
      },
      "source": [
        "# Get statistics about each column with numerical data like minimum and maximum values\n",
        "titanic_dataframe.describe()"
      ],
      "execution_count": 4,
      "outputs": [
        {
          "output_type": "execute_result",
          "data": {
            "text/html": [
              "<div>\n",
              "<style scoped>\n",
              "    .dataframe tbody tr th:only-of-type {\n",
              "        vertical-align: middle;\n",
              "    }\n",
              "\n",
              "    .dataframe tbody tr th {\n",
              "        vertical-align: top;\n",
              "    }\n",
              "\n",
              "    .dataframe thead th {\n",
              "        text-align: right;\n",
              "    }\n",
              "</style>\n",
              "<table border=\"1\" class=\"dataframe\">\n",
              "  <thead>\n",
              "    <tr style=\"text-align: right;\">\n",
              "      <th></th>\n",
              "      <th>PassengerId</th>\n",
              "      <th>Survived</th>\n",
              "      <th>Pclass</th>\n",
              "      <th>Age</th>\n",
              "      <th>SibSp</th>\n",
              "      <th>Parch</th>\n",
              "      <th>Fare</th>\n",
              "    </tr>\n",
              "  </thead>\n",
              "  <tbody>\n",
              "    <tr>\n",
              "      <th>count</th>\n",
              "      <td>891.000000</td>\n",
              "      <td>891.000000</td>\n",
              "      <td>891.000000</td>\n",
              "      <td>714.000000</td>\n",
              "      <td>891.000000</td>\n",
              "      <td>891.000000</td>\n",
              "      <td>891.000000</td>\n",
              "    </tr>\n",
              "    <tr>\n",
              "      <th>mean</th>\n",
              "      <td>446.000000</td>\n",
              "      <td>0.383838</td>\n",
              "      <td>2.308642</td>\n",
              "      <td>29.699118</td>\n",
              "      <td>0.523008</td>\n",
              "      <td>0.381594</td>\n",
              "      <td>32.204208</td>\n",
              "    </tr>\n",
              "    <tr>\n",
              "      <th>std</th>\n",
              "      <td>257.353842</td>\n",
              "      <td>0.486592</td>\n",
              "      <td>0.836071</td>\n",
              "      <td>14.526497</td>\n",
              "      <td>1.102743</td>\n",
              "      <td>0.806057</td>\n",
              "      <td>49.693429</td>\n",
              "    </tr>\n",
              "    <tr>\n",
              "      <th>min</th>\n",
              "      <td>1.000000</td>\n",
              "      <td>0.000000</td>\n",
              "      <td>1.000000</td>\n",
              "      <td>0.420000</td>\n",
              "      <td>0.000000</td>\n",
              "      <td>0.000000</td>\n",
              "      <td>0.000000</td>\n",
              "    </tr>\n",
              "    <tr>\n",
              "      <th>25%</th>\n",
              "      <td>223.500000</td>\n",
              "      <td>0.000000</td>\n",
              "      <td>2.000000</td>\n",
              "      <td>20.125000</td>\n",
              "      <td>0.000000</td>\n",
              "      <td>0.000000</td>\n",
              "      <td>7.910400</td>\n",
              "    </tr>\n",
              "    <tr>\n",
              "      <th>50%</th>\n",
              "      <td>446.000000</td>\n",
              "      <td>0.000000</td>\n",
              "      <td>3.000000</td>\n",
              "      <td>28.000000</td>\n",
              "      <td>0.000000</td>\n",
              "      <td>0.000000</td>\n",
              "      <td>14.454200</td>\n",
              "    </tr>\n",
              "    <tr>\n",
              "      <th>75%</th>\n",
              "      <td>668.500000</td>\n",
              "      <td>1.000000</td>\n",
              "      <td>3.000000</td>\n",
              "      <td>38.000000</td>\n",
              "      <td>1.000000</td>\n",
              "      <td>0.000000</td>\n",
              "      <td>31.000000</td>\n",
              "    </tr>\n",
              "    <tr>\n",
              "      <th>max</th>\n",
              "      <td>891.000000</td>\n",
              "      <td>1.000000</td>\n",
              "      <td>3.000000</td>\n",
              "      <td>80.000000</td>\n",
              "      <td>8.000000</td>\n",
              "      <td>6.000000</td>\n",
              "      <td>512.329200</td>\n",
              "    </tr>\n",
              "  </tbody>\n",
              "</table>\n",
              "</div>"
            ],
            "text/plain": [
              "       PassengerId    Survived      Pclass         Age       SibSp  \\\n",
              "count   891.000000  891.000000  891.000000  714.000000  891.000000   \n",
              "mean    446.000000    0.383838    2.308642   29.699118    0.523008   \n",
              "std     257.353842    0.486592    0.836071   14.526497    1.102743   \n",
              "min       1.000000    0.000000    1.000000    0.420000    0.000000   \n",
              "25%     223.500000    0.000000    2.000000   20.125000    0.000000   \n",
              "50%     446.000000    0.000000    3.000000   28.000000    0.000000   \n",
              "75%     668.500000    1.000000    3.000000   38.000000    1.000000   \n",
              "max     891.000000    1.000000    3.000000   80.000000    8.000000   \n",
              "\n",
              "            Parch        Fare  \n",
              "count  891.000000  891.000000  \n",
              "mean     0.381594   32.204208  \n",
              "std      0.806057   49.693429  \n",
              "min      0.000000    0.000000  \n",
              "25%      0.000000    7.910400  \n",
              "50%      0.000000   14.454200  \n",
              "75%      0.000000   31.000000  \n",
              "max      6.000000  512.329200  "
            ]
          },
          "metadata": {
            "tags": []
          },
          "execution_count": 4
        }
      ]
    },
    {
      "cell_type": "code",
      "metadata": {
        "id": "xwu229mVpTsf",
        "colab_type": "code",
        "colab": {
          "base_uri": "https://localhost:8080/",
          "height": 306
        },
        "outputId": "1f8cc2e3-2ae3-42a5-b679-f4f92459e647"
      },
      "source": [
        "# See the data types that we're working with\n",
        "titanic_dataframe.info()"
      ],
      "execution_count": 5,
      "outputs": [
        {
          "output_type": "stream",
          "text": [
            "<class 'pandas.core.frame.DataFrame'>\n",
            "RangeIndex: 891 entries, 0 to 890\n",
            "Data columns (total 12 columns):\n",
            "PassengerId    891 non-null int64\n",
            "Survived       891 non-null int64\n",
            "Pclass         891 non-null int64\n",
            "Name           891 non-null object\n",
            "Sex            891 non-null object\n",
            "Age            714 non-null float64\n",
            "SibSp          891 non-null int64\n",
            "Parch          891 non-null int64\n",
            "Ticket         891 non-null object\n",
            "Fare           891 non-null float64\n",
            "Cabin          204 non-null object\n",
            "Embarked       889 non-null object\n",
            "dtypes: float64(2), int64(5), object(5)\n",
            "memory usage: 83.6+ KB\n"
          ],
          "name": "stdout"
        }
      ]
    },
    {
      "cell_type": "code",
      "metadata": {
        "id": "O_bJGpymyP8b",
        "colab_type": "code",
        "colab": {
          "base_uri": "https://localhost:8080/",
          "height": 451
        },
        "outputId": "d4ce3f8a-5efa-4ffc-cd8b-ad2a85c4c44b"
      },
      "source": [
        "# Visualize the data using a histogram\n",
        "titanic_dataframe.hist()"
      ],
      "execution_count": 22,
      "outputs": [
        {
          "output_type": "execute_result",
          "data": {
            "text/plain": [
              "array([[<matplotlib.axes._subplots.AxesSubplot object at 0x7f50a1286240>,\n",
              "        <matplotlib.axes._subplots.AxesSubplot object at 0x7f50a124aa20>,\n",
              "        <matplotlib.axes._subplots.AxesSubplot object at 0x7f50a11f5c88>],\n",
              "       [<matplotlib.axes._subplots.AxesSubplot object at 0x7f50a1220f98>,\n",
              "        <matplotlib.axes._subplots.AxesSubplot object at 0x7f50a11cf550>,\n",
              "        <matplotlib.axes._subplots.AxesSubplot object at 0x7f50a1174ac8>],\n",
              "       [<matplotlib.axes._subplots.AxesSubplot object at 0x7f50a119dfd0>,\n",
              "        <matplotlib.axes._subplots.AxesSubplot object at 0x7f50a114c5c0>,\n",
              "        <matplotlib.axes._subplots.AxesSubplot object at 0x7f50a114c5f8>]],\n",
              "      dtype=object)"
            ]
          },
          "metadata": {
            "tags": []
          },
          "execution_count": 22
        },
        {
          "output_type": "display_data",
          "data": {
            "image/png": "[encoded data removed]",
            "text/plain": [
              "<Figure size 432x288 with 9 Axes>"
            ]
          },
          "metadata": {
            "tags": []
          }
        }
      ]
    },
    {
      "cell_type": "markdown",
      "metadata": {
        "id": "frF3cL-Hp9MM",
        "colab_type": "text"
      },
      "source": [
        "### Cleaning Data"
      ]
    },
    {
      "cell_type": "markdown",
      "metadata": {
        "id": "Y8xqiNo-qA7f",
        "colab_type": "text"
      },
      "source": [
        "This is one of the most important parts of any machine learning pipeline. We want to make sure that the inputs we feed into any machine learning model are are valid, non-null, and are numerical values."
      ]
    },
    {
      "cell_type": "markdown",
      "metadata": {
        "id": "6lQ-DpZfqVGh",
        "colab_type": "text"
      },
      "source": [
        "The simplest way to start is by dropping values that are irrelevant to the problem. A person's name is not likely to affect whether or not they survived. Similarly, a passenger's ID number is also unlikely to affect this. What other features do you think are unimportant?"
      ]
    },
    {
      "cell_type": "code",
      "metadata": {
        "id": "b7F4yA35qsrw",
        "colab_type": "code",
        "colab": {}
      },
      "source": [
        "# Drop (delete) columns\n",
        "titanic_dataframe.drop(['Cabin', 'PassengerId', 'Name', 'Ticket'], axis=1, inplace=True)"
      ],
      "execution_count": 0,
      "outputs": []
    },
    {
      "cell_type": "markdown",
      "metadata": {
        "id": "HWa8uXUYrre9",
        "colab_type": "text"
      },
      "source": [
        "Let's see what we're left with:"
      ]
    },
    {
      "cell_type": "code",
      "metadata": {
        "id": "64D5I9iqrtwn",
        "colab_type": "code",
        "colab": {
          "base_uri": "https://localhost:8080/",
          "height": 204
        },
        "outputId": "5b3642a1-d8db-44b3-af04-9a2ff113f4b5"
      },
      "source": [
        "titanic_dataframe.head()"
      ],
      "execution_count": 7,
      "outputs": [
        {
          "output_type": "execute_result",
          "data": {
            "text/html": [
              "<div>\n",
              "<style scoped>\n",
              "    .dataframe tbody tr th:only-of-type {\n",
              "        vertical-align: middle;\n",
              "    }\n",
              "\n",
              "    .dataframe tbody tr th {\n",
              "        vertical-align: top;\n",
              "    }\n",
              "\n",
              "    .dataframe thead th {\n",
              "        text-align: right;\n",
              "    }\n",
              "</style>\n",
              "<table border=\"1\" class=\"dataframe\">\n",
              "  <thead>\n",
              "    <tr style=\"text-align: right;\">\n",
              "      <th></th>\n",
              "      <th>Survived</th>\n",
              "      <th>Pclass</th>\n",
              "      <th>Sex</th>\n",
              "      <th>Age</th>\n",
              "      <th>SibSp</th>\n",
              "      <th>Parch</th>\n",
              "      <th>Fare</th>\n",
              "      <th>Embarked</th>\n",
              "    </tr>\n",
              "  </thead>\n",
              "  <tbody>\n",
              "    <tr>\n",
              "      <th>0</th>\n",
              "      <td>0</td>\n",
              "      <td>3</td>\n",
              "      <td>male</td>\n",
              "      <td>22.0</td>\n",
              "      <td>1</td>\n",
              "      <td>0</td>\n",
              "      <td>7.2500</td>\n",
              "      <td>S</td>\n",
              "    </tr>\n",
              "    <tr>\n",
              "      <th>1</th>\n",
              "      <td>1</td>\n",
              "      <td>1</td>\n",
              "      <td>female</td>\n",
              "      <td>38.0</td>\n",
              "      <td>1</td>\n",
              "      <td>0</td>\n",
              "      <td>71.2833</td>\n",
              "      <td>C</td>\n",
              "    </tr>\n",
              "    <tr>\n",
              "      <th>2</th>\n",
              "      <td>1</td>\n",
              "      <td>3</td>\n",
              "      <td>female</td>\n",
              "      <td>26.0</td>\n",
              "      <td>0</td>\n",
              "      <td>0</td>\n",
              "      <td>7.9250</td>\n",
              "      <td>S</td>\n",
              "    </tr>\n",
              "    <tr>\n",
              "      <th>3</th>\n",
              "      <td>1</td>\n",
              "      <td>1</td>\n",
              "      <td>female</td>\n",
              "      <td>35.0</td>\n",
              "      <td>1</td>\n",
              "      <td>0</td>\n",
              "      <td>53.1000</td>\n",
              "      <td>S</td>\n",
              "    </tr>\n",
              "    <tr>\n",
              "      <th>4</th>\n",
              "      <td>0</td>\n",
              "      <td>3</td>\n",
              "      <td>male</td>\n",
              "      <td>35.0</td>\n",
              "      <td>0</td>\n",
              "      <td>0</td>\n",
              "      <td>8.0500</td>\n",
              "      <td>S</td>\n",
              "    </tr>\n",
              "  </tbody>\n",
              "</table>\n",
              "</div>"
            ],
            "text/plain": [
              "   Survived  Pclass     Sex   Age  SibSp  Parch     Fare Embarked\n",
              "0         0       3    male  22.0      1      0   7.2500        S\n",
              "1         1       1  female  38.0      1      0  71.2833        C\n",
              "2         1       3  female  26.0      0      0   7.9250        S\n",
              "3         1       1  female  35.0      1      0  53.1000        S\n",
              "4         0       3    male  35.0      0      0   8.0500        S"
            ]
          },
          "metadata": {
            "tags": []
          },
          "execution_count": 7
        }
      ]
    },
    {
      "cell_type": "markdown",
      "metadata": {
        "id": "SK9IudFRft3G",
        "colab_type": "text"
      },
      "source": [
        "The \"Sex\" and \"Embarked\" features are relevant for our model, but they are in a non-numerical form. Since there are a discrete number of possibilities for each (i.e. sex is \"male\" or \"female\"; embarked is \"S\", \"C\", or \"Q\") we can map each possibility to a different number. \n",
        "\n",
        "Just as we represented \"Survived\" as 1 and \"Dead\" as 0, we can represent \"female\" as 1 and \"male\" as 0. Similar logic applies to the \"Embarked\" feature."
      ]
    },
    {
      "cell_type": "code",
      "metadata": {
        "id": "Iq3bhyEQiDMA",
        "colab_type": "code",
        "colab": {}
      },
      "source": [
        "# Map {'male', 'female'} to {0, 1}\n",
        "mapping = {\n",
        "    'female': 1,\n",
        "    'male': 0\n",
        "}\n",
        "titanic_dataframe['Sex'] = titanic_dataframe['Sex'].map(mapping)\n",
        "\n",
        "# Map {'C', 'S', 'Q'} to {0, 1, 2}\n",
        "mapping = {\n",
        "    'C': 0,\n",
        "    'S': 1,\n",
        "    'Q': 2\n",
        "}\n",
        "titanic_dataframe['Embarked'] = titanic_dataframe['Embarked'].map(mapping)"
      ],
      "execution_count": 0,
      "outputs": []
    },
    {
      "cell_type": "code",
      "metadata": {
        "id": "yOqf9qWvizlA",
        "colab_type": "code",
        "colab": {
          "base_uri": "https://localhost:8080/",
          "height": 238
        },
        "outputId": "f11d8fe5-432a-4d88-e926-17e719959b41"
      },
      "source": [
        "titanic_dataframe.info()"
      ],
      "execution_count": 9,
      "outputs": [
        {
          "output_type": "stream",
          "text": [
            "<class 'pandas.core.frame.DataFrame'>\n",
            "RangeIndex: 891 entries, 0 to 890\n",
            "Data columns (total 8 columns):\n",
            "Survived    891 non-null int64\n",
            "Pclass      891 non-null int64\n",
            "Sex         891 non-null int64\n",
            "Age         714 non-null float64\n",
            "SibSp       891 non-null int64\n",
            "Parch       891 non-null int64\n",
            "Fare        891 non-null float64\n",
            "Embarked    889 non-null float64\n",
            "dtypes: float64(3), int64(5)\n",
            "memory usage: 55.8 KB\n"
          ],
          "name": "stdout"
        }
      ]
    },
    {
      "cell_type": "markdown",
      "metadata": {
        "id": "1Vxoe6rLi_dV",
        "colab_type": "text"
      },
      "source": [
        "The last thing we notice is that our \"Age\" and \"Embarked\" are missing data; the rest of our features have 891 entries, but they only.have 714 and 889 respectively. Let's take a closer look at what's actually in \"Embarked\":"
      ]
    },
    {
      "cell_type": "code",
      "metadata": {
        "id": "p9gDI4oWj4TB",
        "colab_type": "code",
        "colab": {
          "base_uri": "https://localhost:8080/",
          "height": 34
        },
        "outputId": "e1953e7c-b6b7-44b5-8a79-9f9115d6ef0e"
      },
      "source": [
        "titanic_dataframe['Embarked'].unique()"
      ],
      "execution_count": 10,
      "outputs": [
        {
          "output_type": "execute_result",
          "data": {
            "text/plain": [
              "array([ 1.,  0.,  2., nan])"
            ]
          },
          "metadata": {
            "tags": []
          },
          "execution_count": 10
        }
      ]
    },
    {
      "cell_type": "markdown",
      "metadata": {
        "id": "x168ZfiLkSeW",
        "colab_type": "text"
      },
      "source": [
        "Wherever \"Age\" and \"Embarked\" are missing data, pandas has placed a NaN. We can use a function to fill these NaNs with a value, but what value should we put? There are many different approaches, but for simplicity, we'll just fill them with the median value of the feature."
      ]
    },
    {
      "cell_type": "code",
      "metadata": {
        "id": "3ps_5d9dktGC",
        "colab_type": "code",
        "colab": {}
      },
      "source": [
        "# Fill all NaNs in \"Age\" with the median age.\n",
        "median_age = titanic_dataframe['Age'].median()\n",
        "titanic_dataframe['Age'].fillna(median_age, inplace=True)\n",
        "\n",
        "# Fill all NaNs in \"Embarked\" with the median port.\n",
        "medianPort = titanic_dataframe['Embarked'].median()\n",
        "titanic_dataframe['Embarked'].fillna(medianPort, inplace=True)"
      ],
      "execution_count": 0,
      "outputs": []
    },
    {
      "cell_type": "code",
      "metadata": {
        "id": "vC2wzuO9lOvM",
        "colab_type": "code",
        "colab": {
          "base_uri": "https://localhost:8080/",
          "height": 238
        },
        "outputId": "e0862fd1-d5b6-4a9c-8c2f-52016481faf3"
      },
      "source": [
        "titanic_dataframe.info()"
      ],
      "execution_count": 12,
      "outputs": [
        {
          "output_type": "stream",
          "text": [
            "<class 'pandas.core.frame.DataFrame'>\n",
            "RangeIndex: 891 entries, 0 to 890\n",
            "Data columns (total 8 columns):\n",
            "Survived    891 non-null int64\n",
            "Pclass      891 non-null int64\n",
            "Sex         891 non-null int64\n",
            "Age         891 non-null float64\n",
            "SibSp       891 non-null int64\n",
            "Parch       891 non-null int64\n",
            "Fare        891 non-null float64\n",
            "Embarked    891 non-null float64\n",
            "dtypes: float64(3), int64(5)\n",
            "memory usage: 55.8 KB\n"
          ],
          "name": "stdout"
        }
      ]
    },
    {
      "cell_type": "markdown",
      "metadata": {
        "id": "BVmgXe36lYNq",
        "colab_type": "text"
      },
      "source": [
        "### Creating Training and Testing Matrices"
      ]
    },
    {
      "cell_type": "markdown",
      "metadata": {
        "id": "VtjMO8k5l2Y2",
        "colab_type": "text"
      },
      "source": [
        "Let's split our data into training and test samples. First, we're going to extract the necessary values from our dataframe and convert them into [numpy](https://www.numpy.org) matrices."
      ]
    },
    {
      "cell_type": "code",
      "metadata": {
        "id": "wJjHLEEUlc_3",
        "colab_type": "code",
        "colab": {
          "base_uri": "https://localhost:8080/",
          "height": 51
        },
        "outputId": "0a930e4f-f700-470a-b69f-db070c108071"
      },
      "source": [
        "# Convert to numpy matrices\n",
        "X = titanic_dataframe.iloc[:, 1:].values\n",
        "y = titanic_dataframe['Survived'].values\n",
        "\n",
        "print(X.shape)\n",
        "print(y.shape)"
      ],
      "execution_count": 13,
      "outputs": [
        {
          "output_type": "stream",
          "text": [
            "(891, 7)\n",
            "(891,)\n"
          ],
          "name": "stdout"
        }
      ]
    },
    {
      "cell_type": "markdown",
      "metadata": {
        "id": "ILxqQS4VmbwH",
        "colab_type": "text"
      },
      "source": [
        "Let's check our first training sample:"
      ]
    },
    {
      "cell_type": "code",
      "metadata": {
        "id": "ynQjMeiHmfq7",
        "colab_type": "code",
        "colab": {
          "base_uri": "https://localhost:8080/",
          "height": 51
        },
        "outputId": "a185c648-0097-4055-a27c-7c1d33c4864e"
      },
      "source": [
        "print(X[0])\n",
        "print(y[0])"
      ],
      "execution_count": 14,
      "outputs": [
        {
          "output_type": "stream",
          "text": [
            "[ 3.    0.   22.    1.    0.    7.25  1.  ]\n",
            "0\n"
          ],
          "name": "stdout"
        }
      ]
    },
    {
      "cell_type": "markdown",
      "metadata": {
        "id": "fRX3BZ9mmlOr",
        "colab_type": "text"
      },
      "source": [
        "We'll now use a function from [sklearn](https://scikit-learn.org/stable/) to split our data 70-30 into training and test samples."
      ]
    },
    {
      "cell_type": "code",
      "metadata": {
        "id": "jb0vvRSOmvAT",
        "colab_type": "code",
        "colab": {
          "base_uri": "https://localhost:8080/",
          "height": 85
        },
        "outputId": "d3c1ff7e-7b97-4dcf-caf1-0d5815f073e2"
      },
      "source": [
        "from sklearn.model_selection import train_test_split\n",
        "\n",
        "X_train, X_test, y_train, y_test = train_test_split(X, y)\n",
        "\n",
        "print(X_train.shape)\n",
        "print(X_test.shape)\n",
        "print(y_train.shape)\n",
        "print(y_test.shape)"
      ],
      "execution_count": 15,
      "outputs": [
        {
          "output_type": "stream",
          "text": [
            "(668, 7)\n",
            "(223, 7)\n",
            "(668,)\n",
            "(223,)\n"
          ],
          "name": "stdout"
        }
      ]
    },
    {
      "cell_type": "markdown",
      "metadata": {
        "id": "wTsCZzaznUxn",
        "colab_type": "text"
      },
      "source": [
        "## Training and Testing"
      ]
    },
    {
      "cell_type": "markdown",
      "metadata": {
        "id": "iNCBh71Wzm9T",
        "colab_type": "text"
      },
      "source": [
        "Now that our data has been cleaned, pre-processed, and split into training/testing data, we can finally train our model."
      ]
    },
    {
      "cell_type": "markdown",
      "metadata": {
        "id": "fDX9OMtQm8n9",
        "colab_type": "text"
      },
      "source": [
        "### Create the Model"
      ]
    },
    {
      "cell_type": "markdown",
      "metadata": {
        "id": "81LfcQqHm95G",
        "colab_type": "text"
      },
      "source": [
        "We'll again use the scikit-learn library to import a logistic regression model."
      ]
    },
    {
      "cell_type": "code",
      "metadata": {
        "id": "3P15_iY9nJMM",
        "colab_type": "code",
        "colab": {}
      },
      "source": [
        "from sklearn.linear_model import LogisticRegression\n",
        "\n",
        "model = LogisticRegression(solver='lbfgs', max_iter=1000)"
      ],
      "execution_count": 0,
      "outputs": []
    },
    {
      "cell_type": "markdown",
      "metadata": {
        "id": "Udsg1l41ntjE",
        "colab_type": "text"
      },
      "source": [
        "### Train the model"
      ]
    },
    {
      "cell_type": "code",
      "metadata": {
        "id": "Uw0FGD1wnsz1",
        "colab_type": "code",
        "colab": {
          "base_uri": "https://localhost:8080/",
          "height": 85
        },
        "outputId": "e9659def-c465-4034-c567-7a9d54605e44"
      },
      "source": [
        "model.fit(X_train, y_train)"
      ],
      "execution_count": 17,
      "outputs": [
        {
          "output_type": "execute_result",
          "data": {
            "text/plain": [
              "LogisticRegression(C=1.0, class_weight=None, dual=False, fit_intercept=True,\n",
              "          intercept_scaling=1, max_iter=1000, multi_class='warn',\n",
              "          n_jobs=None, penalty='l2', random_state=None, solver='lbfgs',\n",
              "          tol=0.0001, verbose=0, warm_start=False)"
            ]
          },
          "metadata": {
            "tags": []
          },
          "execution_count": 17
        }
      ]
    },
    {
      "cell_type": "markdown",
      "metadata": {
        "id": "5RbZGr7hnnRD",
        "colab_type": "text"
      },
      "source": [
        "### Test/Evaluate the model"
      ]
    },
    {
      "cell_type": "markdown",
      "metadata": {
        "id": "FIJmqVr2zF0C",
        "colab_type": "text"
      },
      "source": [
        "We'll evaluate our model using the [accuracy score metric](https://developers.google.com/machine-learning/crash-course/classification/accuracy), which is essentially just the fraction of test data samples that are classified correctly."
      ]
    },
    {
      "cell_type": "code",
      "metadata": {
        "id": "Jg3OJuaOnhcH",
        "colab_type": "code",
        "colab": {
          "base_uri": "https://localhost:8080/",
          "height": 34
        },
        "outputId": "5d8c96c6-ec6d-46e0-cfc7-b3d783fa4f75"
      },
      "source": [
        "from sklearn.metrics import accuracy_score\n",
        "\n",
        "predictions = model.predict(X_test)\n",
        "print(\"The accuracy is:\", accuracy_score(y_test, predictions))"
      ],
      "execution_count": 18,
      "outputs": [
        {
          "output_type": "stream",
          "text": [
            "The accuracy is: 0.8026905829596412\n"
          ],
          "name": "stdout"
        }
      ]
    },
    {
      "cell_type": "code",
      "metadata": {
        "id": "rQf6b56uoC1e",
        "colab_type": "code",
        "colab": {
          "base_uri": "https://localhost:8080/",
          "height": 204
        },
        "outputId": "45b6f522-d8b1-4aa8-d33d-4da3e54d3d0d"
      },
      "source": [
        "print(X_train[:10])\n",
        "print(predictions[:10])"
      ],
      "execution_count": 19,
      "outputs": [
        {
          "output_type": "stream",
          "text": [
            "[[  2.       0.      28.       0.       1.      33.       1.    ]\n",
            " [  1.       0.      28.       0.       0.      27.7208   0.    ]\n",
            " [  3.       1.      28.       0.       0.       7.8792   2.    ]\n",
            " [  3.       0.      36.       0.       0.       7.4958   1.    ]\n",
            " [  1.       0.       0.92     1.       2.     151.55     1.    ]\n",
            " [  1.       0.      35.       0.       0.     512.3292   0.    ]\n",
            " [  3.       1.       5.       2.       1.      19.2583   0.    ]\n",
            " [  3.       0.      28.       0.       0.      56.4958   1.    ]\n",
            " [  1.       1.      24.       0.       0.      83.1583   0.    ]\n",
            " [  2.       0.      27.       0.       0.      13.       1.    ]]\n",
            "[1 0 0 0 0 1 1 0 1 1]\n"
          ],
          "name": "stdout"
        }
      ]
    },
    {
      "cell_type": "markdown",
      "metadata": {
        "id": "3HAO3xnby6dP",
        "colab_type": "text"
      },
      "source": [
        "We can also \"make up\" passengers and see what our model predicts."
      ]
    },
    {
      "cell_type": "code",
      "metadata": {
        "id": "xe6UYv1qod8Q",
        "colab_type": "code",
        "colab": {
          "base_uri": "https://localhost:8080/",
          "height": 34
        },
        "outputId": "f736e0ea-5248-42bb-a9af-dcc1e47fcffd"
      },
      "source": [
        "import numpy as np\n",
        "\n",
        "# Pclass, Sex, Age, SibSp, Parch, Fare, Embarked\n",
        "passenger = np.array([[1, 1, 20, 2, 1, 75, 0]])\n",
        "model.predict(passenger)"
      ],
      "execution_count": 20,
      "outputs": [
        {
          "output_type": "execute_result",
          "data": {
            "text/plain": [
              "array([1])"
            ]
          },
          "metadata": {
            "tags": []
          },
          "execution_count": 20
        }
      ]
    },
    {
      "cell_type": "markdown",
      "metadata": {
        "id": "V5wbINNPpOW2",
        "colab_type": "text"
      },
      "source": [
        "## Evaluate"
      ]
    },
    {
      "cell_type": "markdown",
      "metadata": {
        "id": "MQQEopCCymCm",
        "colab_type": "text"
      },
      "source": [
        "We can examine the weights of our logistic regression model to see what it \"learned\". Higher weights indicate that the associated feature is more important. Remember that more negative values make the sigmoid function tend to 0 (died), and more positive values make it tend to 1 (survived)."
      ]
    },
    {
      "cell_type": "code",
      "metadata": {
        "id": "rz1P2uP3pPtH",
        "colab_type": "code",
        "colab": {
          "base_uri": "https://localhost:8080/",
          "height": 136
        },
        "outputId": "821b208d-59f0-4bb0-d6ef-2676fbd28e9e"
      },
      "source": [
        "columns = titanic_dataframe.columns.tolist()[1:]\n",
        "weights = [\"%.6f\" % x for x in model.coef_[0]]\n",
        "\n",
        "for element in zip(columns, weights):\n",
        "  print(element)"
      ],
      "execution_count": 21,
      "outputs": [
        {
          "output_type": "stream",
          "text": [
            "('Pclass', '-1.133423')\n",
            "('Sex', '2.475661')\n",
            "('Age', '-0.035387')\n",
            "('SibSp', '-0.309484')\n",
            "('Parch', '-0.133407')\n",
            "('Fare', '0.002481')\n",
            "('Embarked', '-0.128885')\n"
          ],
          "name": "stdout"
        }
      ]
    }
  ]
}